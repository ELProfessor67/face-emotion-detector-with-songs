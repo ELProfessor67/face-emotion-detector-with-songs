{
 "cells": [
  {
   "cell_type": "code",
   "execution_count": 39,
   "id": "96c3f797-f1b7-4268-8847-884549fa8499",
   "metadata": {},
   "outputs": [],
   "source": [
    "from keras.models import model_from_json\n",
    "from keras_preprocessing.image import load_img\n",
    "import numpy as np\n"
   ]
  },
  {
   "cell_type": "code",
   "execution_count": 50,
   "id": "0933b5b1-0c73-41c6-87e4-98cd6f80876d",
   "metadata": {},
   "outputs": [],
   "source": [
    "json_file = open(\"emotiondetector2.json\", \"r\")\n",
    "model_json = json_file.read()\n",
    "json_file.close()\n",
    "model = model_from_json(model_json)\n",
    "model.load_weights(\"emotiondetector2.h5\")"
   ]
  },
  {
   "cell_type": "code",
   "execution_count": 51,
   "id": "b52a6efd-7eec-460b-8d7a-963cdf8fd651",
   "metadata": {},
   "outputs": [],
   "source": [
    "label = ['angry','disgust','fear','happy','neutral','sad','surprise']"
   ]
  },
  {
   "cell_type": "code",
   "execution_count": 52,
   "id": "50322590-3d86-49e7-8d71-1c24f14129e4",
   "metadata": {},
   "outputs": [],
   "source": [
    "def ef(image):\n",
    "    img = load_img(image,color_mode = \"grayscale\" )\n",
    "    feature = np.array(img)\n",
    "    feature = feature.reshape(1,48,48,1)\n",
    "    return feature/255.0"
   ]
  },
  {
   "cell_type": "code",
   "execution_count": 54,
   "id": "33ed3677-ce5c-433d-8a98-00fcb01d160a",
   "metadata": {},
   "outputs": [
    {
     "name": "stdout",
     "output_type": "stream",
     "text": [
      "original image is of happy\n",
      "1/1 [==============================] - 0s 22ms/step\n",
      "model prediction is  disgust\n"
     ]
    }
   ],
   "source": [
    "image = r'dataset\\images\\train\\disgust\\416.jpg'\n",
    "print(\"original image is of happy\")\n",
    "img = ef(image)\n",
    "pred = model.predict(img)\n",
    "pred_label = label[pred.argmax()]\n",
    "print(\"model prediction is \",pred_label)"
   ]
  },
  {
   "cell_type": "code",
   "execution_count": null,
   "id": "05214129-467e-4b96-ba72-8b4c52a44f98",
   "metadata": {},
   "outputs": [],
   "source": []
  },
  {
   "cell_type": "code",
   "execution_count": null,
   "id": "6c5dc26e-2e7c-4cf7-a572-bf16f9fd870e",
   "metadata": {},
   "outputs": [],
   "source": []
  }
 ],
 "metadata": {
  "kernelspec": {
   "display_name": "Python 3 (ipykernel)",
   "language": "python",
   "name": "python3"
  },
  "language_info": {
   "codemirror_mode": {
    "name": "ipython",
    "version": 3
   },
   "file_extension": ".py",
   "mimetype": "text/x-python",
   "name": "python",
   "nbconvert_exporter": "python",
   "pygments_lexer": "ipython3",
   "version": "3.11.6"
  }
 },
 "nbformat": 4,
 "nbformat_minor": 5
}
